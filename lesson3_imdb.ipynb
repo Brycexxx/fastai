{
  "nbformat": 4,
  "nbformat_minor": 0,
  "metadata": {
    "colab": {
      "name": "lesson3-imdb.ipynb",
      "version": "0.3.2",
      "provenance": [],
      "include_colab_link": true
    },
    "kernelspec": {
      "name": "python3",
      "display_name": "Python 3"
    },
    "accelerator": "GPU"
  },
  "cells": [
    {
      "cell_type": "markdown",
      "metadata": {
        "id": "view-in-github",
        "colab_type": "text"
      },
      "source": [
        "<a href=\"https://colab.research.google.com/github/Brycexxx/fastai/blob/master/lesson3_imdb.ipynb\" target=\"_parent\"><img src=\"https://colab.research.google.com/assets/colab-badge.svg\" alt=\"Open In Colab\"/></a>"
      ]
    },
    {
      "metadata": {
        "id": "9zAVlxyaizua",
        "colab_type": "code",
        "colab": {}
      },
      "cell_type": "code",
      "source": [
        "%reload_ext autoreload\n",
        "%autoreload 2\n",
        "%matplotlib inline"
      ],
      "execution_count": 0,
      "outputs": []
    },
    {
      "metadata": {
        "id": "HGr8uOolk53i",
        "colab_type": "code",
        "colab": {}
      },
      "cell_type": "code",
      "source": [
        "from fastai.text import *"
      ],
      "execution_count": 0,
      "outputs": []
    },
    {
      "metadata": {
        "id": "qQ5bWrAClUdF",
        "colab_type": "text"
      },
      "cell_type": "markdown",
      "source": [
        "### Preparing the data"
      ]
    },
    {
      "metadata": {
        "id": "ThQ5p_AXk-Dp",
        "colab_type": "code",
        "colab": {}
      },
      "cell_type": "code",
      "source": [
        "path = untar_data(URLs.IMDB_SAMPLE)"
      ],
      "execution_count": 0,
      "outputs": []
    },
    {
      "metadata": {
        "id": "jqR_T-YnlbNz",
        "colab_type": "code",
        "colab": {
          "base_uri": "https://localhost:8080/",
          "height": 34
        },
        "outputId": "b1ec8fd2-436f-4e12-c9fb-09565aa8c59f"
      },
      "cell_type": "code",
      "source": [
        "path.ls()"
      ],
      "execution_count": 4,
      "outputs": [
        {
          "output_type": "execute_result",
          "data": {
            "text/plain": [
              "[PosixPath('/root/.fastai/data/imdb_sample/texts.csv')]"
            ]
          },
          "metadata": {
            "tags": []
          },
          "execution_count": 4
        }
      ]
    },
    {
      "metadata": {
        "id": "w-dTD0Znldhc",
        "colab_type": "code",
        "colab": {
          "base_uri": "https://localhost:8080/",
          "height": 195
        },
        "outputId": "4ab79ba5-9952-4a4b-cfe5-4b663b9ad486"
      },
      "cell_type": "code",
      "source": [
        "df = pd.read_csv(path/'texts.csv')\n",
        "df.head()"
      ],
      "execution_count": 5,
      "outputs": [
        {
          "output_type": "execute_result",
          "data": {
            "text/html": [
              "<div>\n",
              "<style scoped>\n",
              "    .dataframe tbody tr th:only-of-type {\n",
              "        vertical-align: middle;\n",
              "    }\n",
              "\n",
              "    .dataframe tbody tr th {\n",
              "        vertical-align: top;\n",
              "    }\n",
              "\n",
              "    .dataframe thead th {\n",
              "        text-align: right;\n",
              "    }\n",
              "</style>\n",
              "<table border=\"1\" class=\"dataframe\">\n",
              "  <thead>\n",
              "    <tr style=\"text-align: right;\">\n",
              "      <th></th>\n",
              "      <th>label</th>\n",
              "      <th>text</th>\n",
              "      <th>is_valid</th>\n",
              "    </tr>\n",
              "  </thead>\n",
              "  <tbody>\n",
              "    <tr>\n",
              "      <th>0</th>\n",
              "      <td>negative</td>\n",
              "      <td>Un-bleeping-believable! Meg Ryan doesn't even ...</td>\n",
              "      <td>False</td>\n",
              "    </tr>\n",
              "    <tr>\n",
              "      <th>1</th>\n",
              "      <td>positive</td>\n",
              "      <td>This is a extremely well-made film. The acting...</td>\n",
              "      <td>False</td>\n",
              "    </tr>\n",
              "    <tr>\n",
              "      <th>2</th>\n",
              "      <td>negative</td>\n",
              "      <td>Every once in a long while a movie will come a...</td>\n",
              "      <td>False</td>\n",
              "    </tr>\n",
              "    <tr>\n",
              "      <th>3</th>\n",
              "      <td>positive</td>\n",
              "      <td>Name just says it all. I watched this movie wi...</td>\n",
              "      <td>False</td>\n",
              "    </tr>\n",
              "    <tr>\n",
              "      <th>4</th>\n",
              "      <td>negative</td>\n",
              "      <td>This movie succeeds at being one of the most u...</td>\n",
              "      <td>False</td>\n",
              "    </tr>\n",
              "  </tbody>\n",
              "</table>\n",
              "</div>"
            ],
            "text/plain": [
              "      label                                               text  is_valid\n",
              "0  negative  Un-bleeping-believable! Meg Ryan doesn't even ...     False\n",
              "1  positive  This is a extremely well-made film. The acting...     False\n",
              "2  negative  Every once in a long while a movie will come a...     False\n",
              "3  positive  Name just says it all. I watched this movie wi...     False\n",
              "4  negative  This movie succeeds at being one of the most u...     False"
            ]
          },
          "metadata": {
            "tags": []
          },
          "execution_count": 5
        }
      ]
    },
    {
      "metadata": {
        "id": "8qWsYywflsCl",
        "colab_type": "code",
        "colab": {
          "base_uri": "https://localhost:8080/",
          "height": 54
        },
        "outputId": "37956c37-d8c8-481b-a2ef-7e76f84ae353"
      },
      "cell_type": "code",
      "source": [
        "df['text'][1]"
      ],
      "execution_count": 7,
      "outputs": [
        {
          "output_type": "execute_result",
          "data": {
            "text/plain": [
              "'This is a extremely well-made film. The acting, script and camera-work are all first-rate. The music is good, too, though it is mostly early in the film, when things are still relatively cheery. There are no really superstars in the cast, though several faces will be familiar. The entire cast does an excellent job with the script.<br /><br />But it is hard to watch, because there is no good end to a situation like the one presented. It is now fashionable to blame the British for setting Hindus and Muslims against each other, and then cruelly separating them into two countries. There is some merit in this view, but it\\'s also true that no one forced Hindus and Muslims in the region to mistreat each other as they did around the time of partition. It seems more likely that the British simply saw the tensions between the religions and were clever enough to exploit them to their own ends.<br /><br />The result is that there is much cruelty and inhumanity in the situation and this is very unpleasant to remember and to see on the screen. But it is never painted as a black-and-white case. There is baseness and nobility on both sides, and also the hope for change in the younger generation.<br /><br />There is redemption of a sort, in the end, when Puro has to make a hard choice between a man who has ruined her life, but also truly loved her, and her family which has disowned her, then later come looking for her. But by that point, she has no option that is without great pain for her.<br /><br />This film carries the message that both Muslims and Hindus have their grave faults, and also that both can be dignified and caring people. The reality of partition makes that realisation all the more wrenching, since there can never be real reconciliation across the India/Pakistan border. In that sense, it is similar to \"Mr & Mrs Iyer\".<br /><br />In the end, we were glad to have seen the film, even though the resolution was heartbreaking. If the UK and US could deal with their own histories of racism with this kind of frankness, they would certainly be better off.'"
            ]
          },
          "metadata": {
            "tags": []
          },
          "execution_count": 7
        }
      ]
    },
    {
      "metadata": {
        "id": "d-MAt7gbmgzd",
        "colab_type": "code",
        "colab": {}
      },
      "cell_type": "code",
      "source": [
        "data_lm = TextDataBunch.from_csv(path, 'texts.csv')"
      ],
      "execution_count": 0,
      "outputs": []
    },
    {
      "metadata": {
        "id": "7S6uqaOrnHbt",
        "colab_type": "code",
        "colab": {}
      },
      "cell_type": "code",
      "source": [
        "data_lm.save()"
      ],
      "execution_count": 0,
      "outputs": []
    },
    {
      "metadata": {
        "id": "SQKw2OvEnsBc",
        "colab_type": "code",
        "colab": {
          "base_uri": "https://localhost:8080/",
          "height": 50
        },
        "outputId": "62f05ffc-ce90-4755-8cb1-3cd4a61d7a84"
      },
      "cell_type": "code",
      "source": [
        "path.ls()"
      ],
      "execution_count": 11,
      "outputs": [
        {
          "output_type": "execute_result",
          "data": {
            "text/plain": [
              "[PosixPath('/root/.fastai/data/imdb_sample/texts.csv'),\n",
              " PosixPath('/root/.fastai/data/imdb_sample/tmp')]"
            ]
          },
          "metadata": {
            "tags": []
          },
          "execution_count": 11
        }
      ]
    },
    {
      "metadata": {
        "id": "5PO0Sovrna5v",
        "colab_type": "code",
        "colab": {}
      },
      "cell_type": "code",
      "source": [
        "data = TextDataBunch.load(path)"
      ],
      "execution_count": 0,
      "outputs": []
    },
    {
      "metadata": {
        "id": "hJYVhxH0onsg",
        "colab_type": "text"
      },
      "cell_type": "markdown",
      "source": [
        "### Tokenization"
      ]
    },
    {
      "metadata": {
        "id": "tp6xP-ONomzk",
        "colab_type": "code",
        "colab": {}
      },
      "cell_type": "code",
      "source": [
        "data = TextClasDataBunch.load(path)"
      ],
      "execution_count": 0,
      "outputs": []
    },
    {
      "metadata": {
        "id": "SB-4gNvvoOWA",
        "colab_type": "code",
        "colab": {
          "base_uri": "https://localhost:8080/",
          "height": 474
        },
        "outputId": "47e07af2-6a73-470d-9815-9722b4379f81"
      },
      "cell_type": "code",
      "source": [
        "data.show_batch()"
      ],
      "execution_count": 15,
      "outputs": [
        {
          "output_type": "display_data",
          "data": {
            "text/html": [
              "<table>  <col width='90%'>  <col width='10%'>  <tr>\n",
              "    <th>text</th>\n",
              "    <th>target</th>\n",
              "  </tr>\n",
              "  <tr>\n",
              "    <th>xxbos xxmaj raising xxmaj victor xxmaj vargas : a xxmaj review \\n \\n  xxmaj you know , xxmaj raising xxmaj victor xxmaj vargas is like sticking your hands into a big , steaming bowl of xxunk . xxmaj it 's warm and gooey , but you 're not sure if it feels right . xxmaj try as i might , no matter how warm and gooey xxmaj raising xxmaj</th>\n",
              "    <th>negative</th>\n",
              "  </tr>\n",
              "  <tr>\n",
              "    <th>xxbos xxup the xxup shop xxup around xxup the xxup corner is one of the xxunk and most feel - good romantic comedies ever made . xxmaj there 's just no getting around that , and it 's hard to actually put one 's feeling for this film into words . xxmaj it 's not one of those films that tries too hard , nor does it come up with</th>\n",
              "    <th>positive</th>\n",
              "  </tr>\n",
              "  <tr>\n",
              "    <th>xxbos xxmaj now that xxmaj che(2008 ) has finished its relatively short xxmaj australian cinema run ( extremely limited xxunk screen in xxmaj sydney , after xxunk ) , i can xxunk join both xxunk of \" xxmaj at xxmaj the xxmaj movies \" in taking xxmaj steven xxmaj soderbergh to task . \\n \\n  xxmaj it 's usually satisfying to watch a film director change his style /</th>\n",
              "    <th>negative</th>\n",
              "  </tr>\n",
              "  <tr>\n",
              "    <th>xxbos i really wanted to love this show . i truly , honestly did . \\n \\n  xxmaj for the first time , gay viewers get their own version of the \" xxmaj the xxmaj bachelor \" . xxmaj with the help of his obligatory \" hag \" xxmaj xxunk , xxmaj james , a good looking , well - to - do thirty - something has the chance</th>\n",
              "    <th>negative</th>\n",
              "  </tr>\n",
              "  <tr>\n",
              "    <th>xxbos \\n \\n  i 'm sure things did n't exactly go the same way in the real life of xxmaj homer xxmaj hickam as they did in the film adaptation of his book , xxmaj rocket xxmaj boys , but the movie \" xxmaj october xxmaj sky \" ( an xxunk of the book 's title ) is good enough to stand alone . i have not read xxmaj</th>\n",
              "    <th>positive</th>\n",
              "  </tr>\n",
              "</table>\n"
            ],
            "text/plain": [
              "<IPython.core.display.HTML object>"
            ]
          },
          "metadata": {
            "tags": []
          }
        }
      ]
    },
    {
      "metadata": {
        "id": "QEUuoI7JpNgs",
        "colab_type": "code",
        "colab": {
          "base_uri": "https://localhost:8080/",
          "height": 185
        },
        "outputId": "da747473-91b2-4b90-ed2d-979ce23076d9"
      },
      "cell_type": "code",
      "source": [
        "data.vocab.itos[:10]"
      ],
      "execution_count": 26,
      "outputs": [
        {
          "output_type": "execute_result",
          "data": {
            "text/plain": [
              "['xxunk',\n",
              " 'xxpad',\n",
              " 'xxbos',\n",
              " 'xxfld',\n",
              " 'xxmaj',\n",
              " 'xxup',\n",
              " 'xxrep',\n",
              " 'xxwrep',\n",
              " 'the',\n",
              " ',']"
            ]
          },
          "metadata": {
            "tags": []
          },
          "execution_count": 26
        }
      ]
    },
    {
      "metadata": {
        "id": "dNFZocvFqkmZ",
        "colab_type": "code",
        "colab": {
          "base_uri": "https://localhost:8080/",
          "height": 87
        },
        "outputId": "7211e568-96f8-4556-c3ac-dab5f72270c6"
      },
      "cell_type": "code",
      "source": [
        "data.train_ds[0][0]"
      ],
      "execution_count": 23,
      "outputs": [
        {
          "output_type": "execute_result",
          "data": {
            "text/plain": [
              "Text xxbos xxmaj the plot of this movie hangs on one important point : that this murderer was also a responsible , loving , caring father . xxmaj not that being a father and a murderer is impossible . xxmaj but this man is shown murdering a teenage girl without xxunk or reason and without emotion . xxmaj this girl was someone 's daughter . i do n't think a father who cared so much about his own daughter could have been so cold - blooded to someone else 's daughter . xxmaj or , alternately , could have been so cold blooded and yet worry about and care for his own daughter . xxmaj and the idea that a convicted murderer would actually ask his victim 's parents to take in and care for his daughter is beyond belief . \n",
              " \n",
              "  xxmaj that said , the characters were acted with conviction by the actors . i thought changing xxmaj scott xxmaj xxunk 's eye color did make him seem more cold and menacing than he usually is . xxmaj you could n't see into his eyes at all ."
            ]
          },
          "metadata": {
            "tags": []
          },
          "execution_count": 23
        }
      ]
    },
    {
      "metadata": {
        "id": "0-5_eWYVqv-Z",
        "colab_type": "code",
        "colab": {
          "base_uri": "https://localhost:8080/",
          "height": 34
        },
        "outputId": "ecb75fcc-45d1-47b4-e3a4-498995b0d359"
      },
      "cell_type": "code",
      "source": [
        "data.train_ds[0][0].data[:10]"
      ],
      "execution_count": 25,
      "outputs": [
        {
          "output_type": "execute_result",
          "data": {
            "text/plain": [
              "array([   2,    4,    8,  130,   13,   20,   28, 4718,   35,   43])"
            ]
          },
          "metadata": {
            "tags": []
          },
          "execution_count": 25
        }
      ]
    },
    {
      "metadata": {
        "id": "ZLunY96JrIG9",
        "colab_type": "code",
        "colab": {}
      },
      "cell_type": "code",
      "source": [
        "data = (TextList.from_csv(path, 'texts.csv', cols='text')\n",
        "                .split_from_df(col=2)\n",
        "                .label_from_df(cols=0)\n",
        "                .databunch())"
      ],
      "execution_count": 0,
      "outputs": []
    },
    {
      "metadata": {
        "id": "CUtkCDt37_-C",
        "colab_type": "text"
      },
      "cell_type": "markdown",
      "source": [
        "### Language model"
      ]
    },
    {
      "metadata": {
        "id": "c8QbSky976IE",
        "colab_type": "code",
        "colab": {}
      },
      "cell_type": "code",
      "source": [
        "bs = 48"
      ],
      "execution_count": 0,
      "outputs": []
    },
    {
      "metadata": {
        "id": "L1GPEMX48EGD",
        "colab_type": "code",
        "colab": {
          "base_uri": "https://localhost:8080/",
          "height": 134
        },
        "outputId": "066298f9-db97-44c1-f78f-555c069accda"
      },
      "cell_type": "code",
      "source": [
        "path = untar_data(URLs.IMDB)\n",
        "path.ls()"
      ],
      "execution_count": 30,
      "outputs": [
        {
          "output_type": "execute_result",
          "data": {
            "text/plain": [
              "[PosixPath('/root/.fastai/data/imdb/test'),\n",
              " PosixPath('/root/.fastai/data/imdb/tmp_clas'),\n",
              " PosixPath('/root/.fastai/data/imdb/imdb.vocab'),\n",
              " PosixPath('/root/.fastai/data/imdb/tmp_lm'),\n",
              " PosixPath('/root/.fastai/data/imdb/README'),\n",
              " PosixPath('/root/.fastai/data/imdb/train'),\n",
              " PosixPath('/root/.fastai/data/imdb/unsup')]"
            ]
          },
          "metadata": {
            "tags": []
          },
          "execution_count": 30
        }
      ]
    },
    {
      "metadata": {
        "id": "8lhSqauo8ST7",
        "colab_type": "code",
        "colab": {
          "base_uri": "https://localhost:8080/",
          "height": 84
        },
        "outputId": "696c0f5e-dd99-4fba-fab7-0b75023b2134"
      },
      "cell_type": "code",
      "source": [
        "(path/'train').ls()"
      ],
      "execution_count": 31,
      "outputs": [
        {
          "output_type": "execute_result",
          "data": {
            "text/plain": [
              "[PosixPath('/root/.fastai/data/imdb/train/labeledBow.feat'),\n",
              " PosixPath('/root/.fastai/data/imdb/train/unsupBow.feat'),\n",
              " PosixPath('/root/.fastai/data/imdb/train/neg'),\n",
              " PosixPath('/root/.fastai/data/imdb/train/pos')]"
            ]
          },
          "metadata": {
            "tags": []
          },
          "execution_count": 31
        }
      ]
    },
    {
      "metadata": {
        "id": "Ah5qoKbC8m-V",
        "colab_type": "code",
        "colab": {}
      },
      "cell_type": "code",
      "source": [
        "data_lm = (TextList.from_folder(path)\n",
        "                   .filter_by_folder(include=['train', 'test', 'unsup'])\n",
        "                   .random_split_by_pct(0.1)\n",
        "                   .label_for_lm()\n",
        "                   .databunch(bs=bs))"
      ],
      "execution_count": 0,
      "outputs": []
    },
    {
      "metadata": {
        "id": "d4x4NXQd-mLn",
        "colab_type": "code",
        "colab": {}
      },
      "cell_type": "code",
      "source": [
        "data_lm.save('tmp_lm')"
      ],
      "execution_count": 0,
      "outputs": []
    },
    {
      "metadata": {
        "id": "PJJDVDK0CHx1",
        "colab_type": "code",
        "colab": {}
      },
      "cell_type": "code",
      "source": [
        "data_lm = TextLMDataBunch.load(path, 'tmp_lm', bs=bs)"
      ],
      "execution_count": 0,
      "outputs": []
    },
    {
      "metadata": {
        "id": "khpS9sKxCQ0t",
        "colab_type": "code",
        "colab": {
          "base_uri": "https://localhost:8080/",
          "height": 222
        },
        "outputId": "1519cd4b-fb82-49b1-ab8b-8318d01a8f01"
      },
      "cell_type": "code",
      "source": [
        "data_lm.show_batch()"
      ],
      "execution_count": 36,
      "outputs": [
        {
          "output_type": "display_data",
          "data": {
            "text/html": [
              "<table>  <col width='5%'>  <col width='95%'>  <tr>\n",
              "    <th>idx</th>\n",
              "    <th>text</th>\n",
              "  </tr>\n",
              "  <tr>\n",
              "    <th>0</th>\n",
              "    <th>, and almost completely devoid of dramatization . xxmaj the couple lives an almost routine life and the user who complains about xxmaj june xxmaj allyson 's choice for the wife , xxup imho , totally misses the point . xxmaj with her less - than - attractive look , her hoarse voice , she was the perfect housewife the screenplay needed . xxmaj at the time , women were</th>\n",
              "  </tr>\n",
              "  <tr>\n",
              "    <th>1</th>\n",
              "    <th>\" and i say this lightly , is nothing but pure trash . i feel sorry for those people that actually wasted their money to go see this in theaters .. i saw a screener of the movie from a friend and i 've regretted it ever since . \\n \\n  xxmaj as a black woman , i am xxup extremely embarrassed to have seen this . xxmaj more</th>\n",
              "  </tr>\n",
              "  <tr>\n",
              "    <th>2</th>\n",
              "    <th>xxup stay away from xxup benji ... he 's a dog and this movie is a dog ! xxbos i still wonder why i sat through this entire thing . xxmaj it only had about 3 minutes of actual entertainment , the rest of it was just a total bore . xxmaj the acting is n't that great and the action scenes are s xxrep 4 o cheesy it 's</th>\n",
              "  </tr>\n",
              "  <tr>\n",
              "    <th>3</th>\n",
              "    <th>utter nonsense . i bet the director was either mega - stoned when he made this or he was just taking the pee out of every xxmaj david xxmaj bradley fan who would sit through this heap of crap . xxmaj the plot circles around a doctor ( xxmaj bradley ) who develops some type of xxmaj virtual xxmaj reality game in which he 's just killing different people off</th>\n",
              "  </tr>\n",
              "  <tr>\n",
              "    <th>4</th>\n",
              "    <th>plot defies logic and belief . xxmaj you have got to hear the part about why the wife did what she did in order \" to save her husband \" . xxmaj yeah , right . i guarantee that you would walk out of the theatre thinking , \" hmm , now that does n't make sense at all . \" xxmaj this is one movie in which you really</th>\n",
              "  </tr>\n",
              "</table>\n"
            ],
            "text/plain": [
              "<IPython.core.display.HTML object>"
            ]
          },
          "metadata": {
            "tags": []
          }
        }
      ]
    },
    {
      "metadata": {
        "id": "Jv6XbYcRCTm2",
        "colab_type": "code",
        "colab": {}
      },
      "cell_type": "code",
      "source": [
        "learn = language_model_learner(data_lm, AWD_LSTM, drop_mult=0.3)"
      ],
      "execution_count": 0,
      "outputs": []
    },
    {
      "metadata": {
        "id": "K-tZG22QDdNA",
        "colab_type": "code",
        "colab": {
          "base_uri": "https://localhost:8080/",
          "height": 34
        },
        "outputId": "30e05f20-9fde-49df-baf5-c18f0a11e540"
      },
      "cell_type": "code",
      "source": [
        "learn.lr_find()"
      ],
      "execution_count": 39,
      "outputs": [
        {
          "output_type": "display_data",
          "data": {
            "text/html": [
              ""
            ],
            "text/plain": [
              "<IPython.core.display.HTML object>"
            ]
          },
          "metadata": {
            "tags": []
          }
        },
        {
          "output_type": "stream",
          "text": [
            "LR Finder is complete, type {learner_name}.recorder.plot() to see the graph.\n"
          ],
          "name": "stdout"
        }
      ]
    },
    {
      "metadata": {
        "id": "ijqwLIoREXVJ",
        "colab_type": "code",
        "colab": {
          "base_uri": "https://localhost:8080/",
          "height": 301
        },
        "outputId": "1e5f9852-9ef0-4212-d2c9-19dc3b2a1773"
      },
      "cell_type": "code",
      "source": [
        "learn.recorder.plot()"
      ],
      "execution_count": 41,
      "outputs": [
        {
          "output_type": "stream",
          "text": [
            "Min numerical gradient: 3.98E-04\n"
          ],
          "name": "stdout"
        },
        {
          "output_type": "display_data",
          "data": {
            "image/png": "[encoded data removed]",
            "text/plain": [
              "<Figure size 432x288 with 1 Axes>"
            ]
          },
          "metadata": {
            "tags": []
          }
        }
      ]
    },
    {
      "metadata": {
        "id": "vBXuwuNYFe9P",
        "colab_type": "code",
        "colab": {
          "base_uri": "https://localhost:8080/",
          "height": 91
        },
        "outputId": "7810424f-045d-4917-c548-9e49d3fe72d4"
      },
      "cell_type": "code",
      "source": [
        "learn.fit_one_cycle(1, 1e-2, moms=(0.8, 0.7))"
      ],
      "execution_count": 42,
      "outputs": [
        {
          "output_type": "display_data",
          "data": {
            "text/html": [
              "Total time: 1:28:10 <p><table style='width:300px; margin-bottom:10px'>\n",
              "  <tr>\n",
              "    <th>epoch</th>\n",
              "    <th>train_loss</th>\n",
              "    <th>valid_loss</th>\n",
              "    <th>accuracy</th>\n",
              "  </tr>\n",
              "  <tr>\n",
              "    <th>1</th>\n",
              "    <th>4.883031</th>\n",
              "    <th>4.735030</th>\n",
              "    <th>0.253043</th>\n",
              "  </tr>\n",
              "</table>\n"
            ],
            "text/plain": [
              "<IPython.core.display.HTML object>"
            ]
          },
          "metadata": {
            "tags": []
          }
        }
      ]
    },
    {
      "metadata": {
        "id": "-mgjJ-5vFrLH",
        "colab_type": "code",
        "colab": {}
      },
      "cell_type": "code",
      "source": [
        "learn.save('fit_head')"
      ],
      "execution_count": 0,
      "outputs": []
    },
    {
      "metadata": {
        "id": "PGbDLnM7bju2",
        "colab_type": "code",
        "colab": {
          "base_uri": "https://localhost:8080/",
          "height": 4270
        },
        "outputId": "1af7fe5d-c83a-4dc0-b1f5-de2973bc2271"
      },
      "cell_type": "code",
      "source": [
        "learn.load('fit_head')"
      ],
      "execution_count": 44,
      "outputs": [
        {
          "output_type": "execute_result",
          "data": {
            "text/plain": [
              "LanguageLearner(data=TextLMDataBunch;\n",
              "\n",
              "Train: LabelList (90000 items)\n",
              "x: LMTextList\n",
              "xxbos xxmaj an anonymous film which could have been directed by anyone at all . xxmaj where is xxmaj anthony xxmaj mann , the director of such classics as \" xxmaj el xxmaj cid \" \" the naked spur \" or \" the man from xxmaj laramie \" ? \n",
              " \n",
              "  xxmaj there are marvelous shots of planes in the clouds , lovingly filmed . xxmaj the story is very trite , and almost completely devoid of dramatization . xxmaj the couple lives an almost routine life and the user who complains about xxmaj june xxmaj allyson 's choice for the wife , xxup imho , totally misses the point . xxmaj with her less - than - attractive look , her hoarse voice , she was the perfect housewife the screenplay needed . xxmaj at the time , women were barefoot and pregnant : there 's not one single woman among the base staff , even in the desk jobs xxunk they had to do was worrying about their hubbies , who were fighting for democracy and against an xxmaj enemy whose name we never hear , but in xxunk was not hard to guess it . \n",
              " \n",
              "  xxmaj one wonders why a young person who has never seen a xxmaj mann movie should choose this one among all the great movies he made .,xxbos xxmaj the plot seemed to be interesting , but this film is a great dissapointment . xxmaj bad actors , a camera moving like in the hands of an amateur . xxmaj if there was c - movies , this would be a perfect example . a plus for a nice xxup dvd cover though and a great looking female actor .,xxbos xxup ok , i would give this a 1 , but i 'm gon na give it a two because i laughed while watching this film ... xxmaj first of all , i can make a much better movie than this one ... in a week ... xxmaj the special effects made this film look like a joke . xxmaj one should n't make such films with horrible special effects because then people wo n't take it seriously . xxmaj the acting and direction was also horrible . xxmaj the screenplay had many plot holes and the whole film was n't believable at all . xxmaj this has to be the worst xxmaj indian film ever . xxmaj the songs were also bad . xxmaj the acting was bad and artificial . xxmaj need i say more . xxmaj do n't watch this movie unless you are curious to see how bad it is . xxmaj that 's why i watched it . i am going into film and i wanted to see how bad a bad film can get . xxmaj trust me , i watched one of the worst films in history if not xxup the worst film .,xxbos xxmaj the only reason i did n't fall asleep during this movie is because the seats were not that comfortable . xxmaj hannibal is xxup boring > xxup boring > xxup boring and xxup boring ! ! ! xxmaj this film is just dreadful , not because of any violence or graphic mutilations . xxmaj it 's actually quite tame in that regard . xxmaj the story moves at the speed of a lazy snail . i have the feeling that director xxmaj ridley xxmaj scott just phoned this one in . xxmaj the actors are all fine they just needed some direction . xxmaj the music score is also very annoying . xxmaj it 's especially noticeable since so little is going on in the film . xxmaj it does look good but that 's not enough reason to see it . xxmaj by the way did i mention that it 's xxup boring ? \n",
              " \n",
              " ,xxbos xxmaj the title does n't make much sense to me . i 'm not sure what door in the movie should n't have been opened . \n",
              " \n",
              "  xxmaj the movie starts uneventfully , with a conversation between a man and a woman in a room that looks like a richly furnished train car , complete with the sound of the train traveling . xxmaj in fact , the man 's house is a train car , and he has a cassette of train sounds . xxmaj the woman leaves , and calls a young woman . xxmaj the young woman tells her boyfriend , a doctor , that she 's been told her grandmother is ill , and she needs to return to her home town . xxmaj she has n't been there in thirteen years . \n",
              " \n",
              "  xxmaj flash back to thirteen years ago . a shadowy figure enters a house . xxmaj he caresses a sleeping young girl , then goes into another room and stabs the girl 's mother . xxmaj the girl wakes up and enters her mother 's room and finds her dead with a knife in her . xxmaj she screams , and an arm comes out of nowhere and claps a hand over her mouth . xxmaj she looks up in fear . xxmaj that early scene in the movie of the killer xxunk her scream , and the girl 's look is one of the few effective shots in the movie . \n",
              " \n",
              "  xxmaj it does n't have much going for it in the visuals department . xxmaj occasionally there 's some strange use of sound , and there 's some weird lighting in an attic scene where many of the panes of glass are red and blue . \n",
              " \n",
              "  xxmaj back to the present day . xxmaj the young woman arrives in her grandmother 's house . xxmaj an old doctor is there , who she does n't trust , along with the man from the opening scene \" xxmaj judge \" and xxmaj xxunk , the town 's museum operator . xxmaj she does n't trust any of them , and it 's true they do n't inspire any trust . xxmaj she 's rather crabby throughout the whole movie . xxmaj she wants to check her grandmother into a hospital . xxmaj the men in the town want her house , and the museum operator wants the things in it ( his museum is already filled with many of the grandmother 's things ) . xxmaj inexplicably , the woman wants to keep the house . \n",
              " \n",
              "  xxmaj the young woman starts getting phone calls from a man speaking in a sinister whisper . xxmaj he makes various threats , and wants her to do things to arouse him . xxmaj such scenes recur often . xxmaj unfortunately , there are so few characters in the movie , that the possibilities of who it could be are limited . xxmaj worse still , we see right from the beginning who is making the phone calls . xxmaj so , while the young woman does n't know ( even though the caller occasionally drops into his normal voice ) , the audience always knows : no suspense . xxmaj each call rattles her more and more . \n",
              " \n",
              "  xxmaj the ending was unexpected for me , so maybe gets points for not going with the obvious , but i 'm not sure i cared for it .\n",
              "y: LMLabelList\n",
              ",,,,\n",
              "Path: /root/.fastai/data/imdb;\n",
              "\n",
              "Valid: LabelList (10000 items)\n",
              "x: LMTextList\n",
              "xxbos i have never seen a show as good as xxmaj full xxmaj house . xxmaj full xxmaj house puts all of the newer shows to shame , big time ! xxmaj anyone who has never seen it , which i do n't see how it is possible , should see it . xxmaj it is a great show for anyone of any age . xxmaj full xxmaj house will make you laugh , it will make you cry , it will amaze you . xxmaj true , some people feel that there are some \" cheesy \" aspects to the show , but , the positive aspects out weigh all of the \" cheesy \" aspects . xxmaj full xxmaj house ran it 's first episode on xxmaj september 22 , 1987 entitled \" xxmaj our xxmaj very xxmaj first xxmaj show \" and ran it 's last episode on xxmaj may 23 , 1995 entitled \" xxmaj michelle xxmaj rides xxmaj again xxmaj part xxup ii \" . \n",
              " \n",
              "  xxmaj the plot of the show is very believable . xxmaj danny xxmaj tanner ( xxmaj bob xxmaj saget ) losses his wife , xxmaj pam , in an accident involving a drunk driver . xxmaj danny has his brother in law , xxmaj jesse xxmaj xxunk ( xxmaj john xxmaj stamos ) , which is xxmaj pam 's younger brother , and xxmaj danny also brings in his best friend xxmaj joey xxmaj gladstone ( xxmaj dave xxmaj coulier ) to help him raise his three daughters . xxmaj danny 's daughters are named xxup dj ( xxmaj candice xxmaj cameron - xxmaj bure ) , xxmaj stephanie ( xxmaj jodie xxmaj sweetin ) , and xxmaj michelle ( xxmaj mary - xxmaj kate and xxmaj ashley xxunk and xxmaj jesse plan on moving in with xxmaj danny and his three girls for a few months just to help out and end up living with them for eight years ; which is the number of years the show ran for . \n",
              " \n",
              "  xxmaj the following is a short description of some of the characters and the actor / actress who played him / her : xxmaj john xxmaj stamos ( xxmaj jesse ) : xxmaj john xxmaj stamos is a great actor . xxmaj he plays xxmaj jesse . xxmaj jesse is a rock star waiting to get his big break . xxmaj in xxmaj full xxmaj house , xxmaj john xxmaj stamos does a great job portraying his character . xxmaj he looked and played music like his idol , xxmaj elvis xxmaj presley . \n",
              " \n",
              "  xxmaj bob xxmaj saget ( xxmaj danny ) : xxmaj bob xxmaj saget is also a great actor . xxmaj he looses his wife in car accident involving a drunk driver . xxmaj he has to raise three girls without a having the girl 's xxmaj mother . xxmaj bob xxmaj saget does a great job portraying a single parent who works full time and still has time to raise his three girls . \n",
              " \n",
              "  xxmaj dave xxmaj coulier ( xxmaj joey ) : xxmaj one word can describe xxmaj dave xxmaj coulier , funny . xxmaj he is great . xxmaj playing the character of xxmaj joey was perfect for him . xxmaj he does a great job playing the stand - up comedian waiting for his big break . \n",
              " \n",
              "  xxmaj candice xxmaj cameron - xxmaj bure ( xxup dj ) : xxmaj she is a tremendous actress . xxmaj she plays the oldest sister , xxup dj which is short for xxmaj donna xxmaj jo . xxmaj she is one of the best actresses i have ever seen . xxmaj her acting ability in xxmaj full xxmaj house was very believable . \n",
              " \n",
              "  xxmaj jodie xxmaj sweetin ( xxmaj stephanie ) : xxmaj two simple words can describe xxmaj jodie xxmaj sweetin , incredibly amazing ! i wish i could say every thing that i would like to say about xxmaj jodie , but , i would use up the 1,000 word maximum just on her . xxmaj she got her start in a kids show called xxmaj mother xxmaj goose xxmaj stories and when she came to xxmaj full xxmaj house , she blew the audience 's and creator 's mind . xxmaj her great looks and absolutely amazing acting ability helped to make the show the success that it was . xxmaj according to xxmaj dave xxmaj coulier , xxmaj jodie was supposed to be the star of the show . xxmaj it was supposed to be where she was going to get her big break . xxmaj jodie , at five years old when the show first aired , could hit every line perfectly . xxmaj she showed great enthusiasm . xxmaj most young kids ca n't do this . xxmaj as you can probably guess , xxmaj jodie xxmaj sweetin ( xxmaj stephanie ) is my favorite character in xxmaj full xxmaj house . \n",
              " \n",
              "  xxmaj mary - xxmaj kate and xxmaj ashley xxmaj olsen ( xxmaj michelle ) : xxmaj great actress . xxmaj full xxmaj house is where they got their start . xxmaj they received the part of xxmaj michelle because they were the only babies who did not cry while in front of a camera . \n",
              " \n",
              "  xxmaj there are many more cast members that should be recognized . xxmaj these are the original characters from when the show first went on the air in 1987 . \n",
              " \n",
              "  xxmaj the only negative thing that i can say is how xxmaj full xxmaj house became xxmaj the xxmaj michelle xxmaj show towards the end . i think it was to focused on her towards the end . xxmaj especially when i think xxmaj jodie and xxmaj candice were much better at acting . \n",
              " \n",
              "  xxmaj full xxmaj house is a great show for everyone . xxmaj it can teach you a lot . xxmaj one of the biggest things it can teach you is that everyone can live a great life even if a tragedy , such as loosing a family member , occurs . xxmaj full xxmaj house continues to attract new fans . xxmaj with all this said , there is only a couple things left to say ; xxmaj full xxmaj house will never die , and , thank you , the cast of xxmaj full xxmaj house , for giving everyone a show that they can enjoy .,xxbos xxmaj penelope xxmaj spheeris ( of \" xxmaj wayne 's xxmaj world \" fame ) made her mark with the documentary \" xxmaj the xxmaj decline of xxmaj western xxmaj civilization \" , about the xxup la punk scene in the late ' 70s and early ' 80s . xxmaj most of the documentary features interviews with the punks and footage of concerts ( which often turn violent ) . xxmaj overall , we get to see how the punk movement was a reaction to the hippies : whereas the hippies were into being natural , the punks wanted to have themselves as altered as possible , what with spiked hair and all . xxmaj but also , we see how they 're really disaffected and sometimes becoming skinheads . \n",
              " \n",
              "  xxmaj anyway , this is a really great time capsule . xxmaj we 're not really sure whether we want to long for that era or feel repulsed by it . xxmaj but this is definitely not a documentary that will leave you neutral . xxmaj truly worth seeing .,xxbos xxmaj indian xxmaj summer is a warm , multi - character film , that would make a fine afternoon film ( with a bit of editing ) . \n",
              " \n",
              "  xxmaj the film begins in the past with a group of children being shown a moose , which sets the tone perfectly before cutting into the present , when a group of adults from the \" golden age \" of the camp are invited back again to spend a few weeks holiday by the head of the camp , xxmaj uncle xxmaj lou . xxmaj the film then allows the viewer to spend time with these characters as they remember their times at the camp , and form new memories in their latest stay . \n",
              " \n",
              "  xxmaj the film succeeds in the great way it brings across its characters in this gorgeous setting , and allows them room to develop without having to worry about plot developments . xxmaj watching these people reminisce , and their relationships with each other is what the film is all about and why it works so well . xxmaj it never goes to over the top and melodramatic , always keeping its warmth , charm and realism . i 've never seen a film where nostalgia is captured so well , and found myself getting drawn in despite never having been to one of these camps as a child myself . \n",
              " \n",
              "  xxmaj for a warm , nostalgic character movie , i sincerely recommend .,xxbos xxmaj kalifornia is the story of a writer and his girlfriend photographer who are looking for someone to help pay gas money and take turns at the wheel for a cross country road trip to famous murder sights . xxmaj ironically a serial killer and his girlfriend answer the post . xxmaj kalifornia is a diamond in the rough and a very intriguing journey with a serial killer . xxmaj great performances all around by the leads with xxmaj pitt in particular being exceptional . xxmaj check it out ! !,xxbos xxmaj if this is someone 's \" favorite \" movie , they need some serious help . xxmaj there is nothing funny or clever about this crapfest . i have n't seen the original movie this is the remake of ( some 1950s film ) , but it simply has to be better than this newer bastardization . \n",
              " \n",
              "  a major gets kicked out of the military for being a fringe element , and winds up teaching children at an xxup rotc school . xxmaj unfortunately , the major is xxmaj xxunk xxmaj wayans ... so the children are in for a world of annoying , humorless xxunk . xxmaj can xxmaj wayans whip these losers into shape ? xxmaj can they get him to become a little more human ? xxmaj the film bombs as most xxmaj wayans films do , with only a few sparkling moments . xxmaj william xxmaj hickey gets about one minute of screen time , fair too little . xxmaj this charming old man ( known best to me as a \" xxmaj tales from the xxmaj crypt \" actor , known best to you as xxmaj uncle xxmaj louis from \" xxmaj christmas xxmaj vacation \" ) shines every moment he 's on screen , which is n't much here . \n",
              " \n",
              "  xxmaj bam xxmaj bam xxmaj bigelow also makes an appearance as a biker , which fits him perfectly . i would n't mind slightly more xxmaj bam xxmaj bam , but i think he carried the role of \" biker \" about as far as it could be carried for a military film . \n",
              " \n",
              "  xxmaj and then there 's the attractive teacher , who someone falls for xxmaj major xxmaj payne even though he treats the kids poorly , has no social skills and is simply impossible to convert into someone you would want to spend time with . xxmaj she must either be incredibly stupid or incredibly desperate . i 'm not sure which ( though it would seem \" stupid \" since the movie makes it clear she gets out of the house often enough ) . \n",
              " \n",
              "  xxmaj wayans had one shining moment : a dance sequence where he performs a series of moves ( including a very nice \" robot \" ) , and with the help of music from 2 xxmaj live xxmaj crew . xxmaj this scene was enjoyable but hardly made up for anything else that made this film dog xxunk . \n",
              " \n",
              "  xxmaj seriously , avoid this film . xxmaj if you want to see a film a bout a loser who helps loser kids become heroes , rent or buy \" xxmaj ernest xxmaj goes to xxmaj camp \" . xxmaj at least he 's a lovable loser , and actually funny . xxmaj maybe if xxmaj major xxmaj payne had fought a badger i 'd feel better , but he did n't . xxmaj forget xxmaj payne , forget xxmaj wayans ... you can do so much better .\n",
              "y: LMLabelList\n",
              ",,,,\n",
              "Path: /root/.fastai/data/imdb;\n",
              "\n",
              "Test: None, model=SequentialRNN(\n",
              "  (0): AWD_LSTM(\n",
              "    (encoder): Embedding(60003, 400, padding_idx=1)\n",
              "    (encoder_dp): EmbeddingDropout(\n",
              "      (emb): Embedding(60003, 400, padding_idx=1)\n",
              "    )\n",
              "    (rnns): ModuleList(\n",
              "      (0): WeightDropout(\n",
              "        (module): LSTM(400, 1150, batch_first=True)\n",
              "      )\n",
              "      (1): WeightDropout(\n",
              "        (module): LSTM(1150, 1150, batch_first=True)\n",
              "      )\n",
              "      (2): WeightDropout(\n",
              "        (module): LSTM(1150, 400, batch_first=True)\n",
              "      )\n",
              "    )\n",
              "    (input_dp): RNNDropout()\n",
              "    (hidden_dps): ModuleList(\n",
              "      (0): RNNDropout()\n",
              "      (1): RNNDropout()\n",
              "      (2): RNNDropout()\n",
              "    )\n",
              "  )\n",
              "  (1): LinearDecoder(\n",
              "    (decoder): Linear(in_features=400, out_features=60003, bias=True)\n",
              "    (output_dp): RNNDropout()\n",
              "  )\n",
              "), opt_func=functools.partial(<class 'torch.optim.adam.Adam'>, betas=(0.9, 0.99)), loss_func=FlattenedLoss of CrossEntropyLoss(), metrics=[<function accuracy at 0x7ff4379f4b70>], true_wd=True, bn_wd=True, wd=0.01, train_bn=True, path=PosixPath('/root/.fastai/data/imdb'), model_dir='models', callback_fns=[<class 'fastai.basic_train.Recorder'>], callbacks=[RNNTrainer\n",
              "learn: LanguageLearner(data=TextLMDataBunch;\n",
              "\n",
              "Train: LabelList (90000 items)\n",
              "x: LMTextList\n",
              "xxbos xxmaj an anonymous film which could have been directed by anyone at all . xxmaj where is xxmaj anthony xxmaj mann , the director of such classics as \" xxmaj el xxmaj cid \" \" the naked spur \" or \" the man from xxmaj laramie \" ? \n",
              " \n",
              "  xxmaj there are marvelous shots of planes in the clouds , lovingly filmed . xxmaj the story is very trite , and almost completely devoid of dramatization . xxmaj the couple lives an almost routine life and the user who complains about xxmaj june xxmaj allyson 's choice for the wife , xxup imho , totally misses the point . xxmaj with her less - than - attractive look , her hoarse voice , she was the perfect housewife the screenplay needed . xxmaj at the time , women were barefoot and pregnant : there 's not one single woman among the base staff , even in the desk jobs xxunk they had to do was worrying about their hubbies , who were fighting for democracy and against an xxmaj enemy whose name we never hear , but in xxunk was not hard to guess it . \n",
              " \n",
              "  xxmaj one wonders why a young person who has never seen a xxmaj mann movie should choose this one among all the great movies he made .,xxbos xxmaj the plot seemed to be interesting , but this film is a great dissapointment . xxmaj bad actors , a camera moving like in the hands of an amateur . xxmaj if there was c - movies , this would be a perfect example . a plus for a nice xxup dvd cover though and a great looking female actor .,xxbos xxup ok , i would give this a 1 , but i 'm gon na give it a two because i laughed while watching this film ... xxmaj first of all , i can make a much better movie than this one ... in a week ... xxmaj the special effects made this film look like a joke . xxmaj one should n't make such films with horrible special effects because then people wo n't take it seriously . xxmaj the acting and direction was also horrible . xxmaj the screenplay had many plot holes and the whole film was n't believable at all . xxmaj this has to be the worst xxmaj indian film ever . xxmaj the songs were also bad . xxmaj the acting was bad and artificial . xxmaj need i say more . xxmaj do n't watch this movie unless you are curious to see how bad it is . xxmaj that 's why i watched it . i am going into film and i wanted to see how bad a bad film can get . xxmaj trust me , i watched one of the worst films in history if not xxup the worst film .,xxbos xxmaj the only reason i did n't fall asleep during this movie is because the seats were not that comfortable . xxmaj hannibal is xxup boring > xxup boring > xxup boring and xxup boring ! ! ! xxmaj this film is just dreadful , not because of any violence or graphic mutilations . xxmaj it 's actually quite tame in that regard . xxmaj the story moves at the speed of a lazy snail . i have the feeling that director xxmaj ridley xxmaj scott just phoned this one in . xxmaj the actors are all fine they just needed some direction . xxmaj the music score is also very annoying . xxmaj it 's especially noticeable since so little is going on in the film . xxmaj it does look good but that 's not enough reason to see it . xxmaj by the way did i mention that it 's xxup boring ? \n",
              " \n",
              " ,xxbos xxmaj the title does n't make much sense to me . i 'm not sure what door in the movie should n't have been opened . \n",
              " \n",
              "  xxmaj the movie starts uneventfully , with a conversation between a man and a woman in a room that looks like a richly furnished train car , complete with the sound of the train traveling . xxmaj in fact , the man 's house is a train car , and he has a cassette of train sounds . xxmaj the woman leaves , and calls a young woman . xxmaj the young woman tells her boyfriend , a doctor , that she 's been told her grandmother is ill , and she needs to return to her home town . xxmaj she has n't been there in thirteen years . \n",
              " \n",
              "  xxmaj flash back to thirteen years ago . a shadowy figure enters a house . xxmaj he caresses a sleeping young girl , then goes into another room and stabs the girl 's mother . xxmaj the girl wakes up and enters her mother 's room and finds her dead with a knife in her . xxmaj she screams , and an arm comes out of nowhere and claps a hand over her mouth . xxmaj she looks up in fear . xxmaj that early scene in the movie of the killer xxunk her scream , and the girl 's look is one of the few effective shots in the movie . \n",
              " \n",
              "  xxmaj it does n't have much going for it in the visuals department . xxmaj occasionally there 's some strange use of sound , and there 's some weird lighting in an attic scene where many of the panes of glass are red and blue . \n",
              " \n",
              "  xxmaj back to the present day . xxmaj the young woman arrives in her grandmother 's house . xxmaj an old doctor is there , who she does n't trust , along with the man from the opening scene \" xxmaj judge \" and xxmaj xxunk , the town 's museum operator . xxmaj she does n't trust any of them , and it 's true they do n't inspire any trust . xxmaj she 's rather crabby throughout the whole movie . xxmaj she wants to check her grandmother into a hospital . xxmaj the men in the town want her house , and the museum operator wants the things in it ( his museum is already filled with many of the grandmother 's things ) . xxmaj inexplicably , the woman wants to keep the house . \n",
              " \n",
              "  xxmaj the young woman starts getting phone calls from a man speaking in a sinister whisper . xxmaj he makes various threats , and wants her to do things to arouse him . xxmaj such scenes recur often . xxmaj unfortunately , there are so few characters in the movie , that the possibilities of who it could be are limited . xxmaj worse still , we see right from the beginning who is making the phone calls . xxmaj so , while the young woman does n't know ( even though the caller occasionally drops into his normal voice ) , the audience always knows : no suspense . xxmaj each call rattles her more and more . \n",
              " \n",
              "  xxmaj the ending was unexpected for me , so maybe gets points for not going with the obvious , but i 'm not sure i cared for it .\n",
              "y: LMLabelList\n",
              ",,,,\n",
              "Path: /root/.fastai/data/imdb;\n",
              "\n",
              "Valid: LabelList (10000 items)\n",
              "x: LMTextList\n",
              "xxbos i have never seen a show as good as xxmaj full xxmaj house . xxmaj full xxmaj house puts all of the newer shows to shame , big time ! xxmaj anyone who has never seen it , which i do n't see how it is possible , should see it . xxmaj it is a great show for anyone of any age . xxmaj full xxmaj house will make you laugh , it will make you cry , it will amaze you . xxmaj true , some people feel that there are some \" cheesy \" aspects to the show , but , the positive aspects out weigh all of the \" cheesy \" aspects . xxmaj full xxmaj house ran it 's first episode on xxmaj september 22 , 1987 entitled \" xxmaj our xxmaj very xxmaj first xxmaj show \" and ran it 's last episode on xxmaj may 23 , 1995 entitled \" xxmaj michelle xxmaj rides xxmaj again xxmaj part xxup ii \" . \n",
              " \n",
              "  xxmaj the plot of the show is very believable . xxmaj danny xxmaj tanner ( xxmaj bob xxmaj saget ) losses his wife , xxmaj pam , in an accident involving a drunk driver . xxmaj danny has his brother in law , xxmaj jesse xxmaj xxunk ( xxmaj john xxmaj stamos ) , which is xxmaj pam 's younger brother , and xxmaj danny also brings in his best friend xxmaj joey xxmaj gladstone ( xxmaj dave xxmaj coulier ) to help him raise his three daughters . xxmaj danny 's daughters are named xxup dj ( xxmaj candice xxmaj cameron - xxmaj bure ) , xxmaj stephanie ( xxmaj jodie xxmaj sweetin ) , and xxmaj michelle ( xxmaj mary - xxmaj kate and xxmaj ashley xxunk and xxmaj jesse plan on moving in with xxmaj danny and his three girls for a few months just to help out and end up living with them for eight years ; which is the number of years the show ran for . \n",
              " \n",
              "  xxmaj the following is a short description of some of the characters and the actor / actress who played him / her : xxmaj john xxmaj stamos ( xxmaj jesse ) : xxmaj john xxmaj stamos is a great actor . xxmaj he plays xxmaj jesse . xxmaj jesse is a rock star waiting to get his big break . xxmaj in xxmaj full xxmaj house , xxmaj john xxmaj stamos does a great job portraying his character . xxmaj he looked and played music like his idol , xxmaj elvis xxmaj presley . \n",
              " \n",
              "  xxmaj bob xxmaj saget ( xxmaj danny ) : xxmaj bob xxmaj saget is also a great actor . xxmaj he looses his wife in car accident involving a drunk driver . xxmaj he has to raise three girls without a having the girl 's xxmaj mother . xxmaj bob xxmaj saget does a great job portraying a single parent who works full time and still has time to raise his three girls . \n",
              " \n",
              "  xxmaj dave xxmaj coulier ( xxmaj joey ) : xxmaj one word can describe xxmaj dave xxmaj coulier , funny . xxmaj he is great . xxmaj playing the character of xxmaj joey was perfect for him . xxmaj he does a great job playing the stand - up comedian waiting for his big break . \n",
              " \n",
              "  xxmaj candice xxmaj cameron - xxmaj bure ( xxup dj ) : xxmaj she is a tremendous actress . xxmaj she plays the oldest sister , xxup dj which is short for xxmaj donna xxmaj jo . xxmaj she is one of the best actresses i have ever seen . xxmaj her acting ability in xxmaj full xxmaj house was very believable . \n",
              " \n",
              "  xxmaj jodie xxmaj sweetin ( xxmaj stephanie ) : xxmaj two simple words can describe xxmaj jodie xxmaj sweetin , incredibly amazing ! i wish i could say every thing that i would like to say about xxmaj jodie , but , i would use up the 1,000 word maximum just on her . xxmaj she got her start in a kids show called xxmaj mother xxmaj goose xxmaj stories and when she came to xxmaj full xxmaj house , she blew the audience 's and creator 's mind . xxmaj her great looks and absolutely amazing acting ability helped to make the show the success that it was . xxmaj according to xxmaj dave xxmaj coulier , xxmaj jodie was supposed to be the star of the show . xxmaj it was supposed to be where she was going to get her big break . xxmaj jodie , at five years old when the show first aired , could hit every line perfectly . xxmaj she showed great enthusiasm . xxmaj most young kids ca n't do this . xxmaj as you can probably guess , xxmaj jodie xxmaj sweetin ( xxmaj stephanie ) is my favorite character in xxmaj full xxmaj house . \n",
              " \n",
              "  xxmaj mary - xxmaj kate and xxmaj ashley xxmaj olsen ( xxmaj michelle ) : xxmaj great actress . xxmaj full xxmaj house is where they got their start . xxmaj they received the part of xxmaj michelle because they were the only babies who did not cry while in front of a camera . \n",
              " \n",
              "  xxmaj there are many more cast members that should be recognized . xxmaj these are the original characters from when the show first went on the air in 1987 . \n",
              " \n",
              "  xxmaj the only negative thing that i can say is how xxmaj full xxmaj house became xxmaj the xxmaj michelle xxmaj show towards the end . i think it was to focused on her towards the end . xxmaj especially when i think xxmaj jodie and xxmaj candice were much better at acting . \n",
              " \n",
              "  xxmaj full xxmaj house is a great show for everyone . xxmaj it can teach you a lot . xxmaj one of the biggest things it can teach you is that everyone can live a great life even if a tragedy , such as loosing a family member , occurs . xxmaj full xxmaj house continues to attract new fans . xxmaj with all this said , there is only a couple things left to say ; xxmaj full xxmaj house will never die , and , thank you , the cast of xxmaj full xxmaj house , for giving everyone a show that they can enjoy .,xxbos xxmaj penelope xxmaj spheeris ( of \" xxmaj wayne 's xxmaj world \" fame ) made her mark with the documentary \" xxmaj the xxmaj decline of xxmaj western xxmaj civilization \" , about the xxup la punk scene in the late ' 70s and early ' 80s . xxmaj most of the documentary features interviews with the punks and footage of concerts ( which often turn violent ) . xxmaj overall , we get to see how the punk movement was a reaction to the hippies : whereas the hippies were into being natural , the punks wanted to have themselves as altered as possible , what with spiked hair and all . xxmaj but also , we see how they 're really disaffected and sometimes becoming skinheads . \n",
              " \n",
              "  xxmaj anyway , this is a really great time capsule . xxmaj we 're not really sure whether we want to long for that era or feel repulsed by it . xxmaj but this is definitely not a documentary that will leave you neutral . xxmaj truly worth seeing .,xxbos xxmaj indian xxmaj summer is a warm , multi - character film , that would make a fine afternoon film ( with a bit of editing ) . \n",
              " \n",
              "  xxmaj the film begins in the past with a group of children being shown a moose , which sets the tone perfectly before cutting into the present , when a group of adults from the \" golden age \" of the camp are invited back again to spend a few weeks holiday by the head of the camp , xxmaj uncle xxmaj lou . xxmaj the film then allows the viewer to spend time with these characters as they remember their times at the camp , and form new memories in their latest stay . \n",
              " \n",
              "  xxmaj the film succeeds in the great way it brings across its characters in this gorgeous setting , and allows them room to develop without having to worry about plot developments . xxmaj watching these people reminisce , and their relationships with each other is what the film is all about and why it works so well . xxmaj it never goes to over the top and melodramatic , always keeping its warmth , charm and realism . i 've never seen a film where nostalgia is captured so well , and found myself getting drawn in despite never having been to one of these camps as a child myself . \n",
              " \n",
              "  xxmaj for a warm , nostalgic character movie , i sincerely recommend .,xxbos xxmaj kalifornia is the story of a writer and his girlfriend photographer who are looking for someone to help pay gas money and take turns at the wheel for a cross country road trip to famous murder sights . xxmaj ironically a serial killer and his girlfriend answer the post . xxmaj kalifornia is a diamond in the rough and a very intriguing journey with a serial killer . xxmaj great performances all around by the leads with xxmaj pitt in particular being exceptional . xxmaj check it out ! !,xxbos xxmaj if this is someone 's \" favorite \" movie , they need some serious help . xxmaj there is nothing funny or clever about this crapfest . i have n't seen the original movie this is the remake of ( some 1950s film ) , but it simply has to be better than this newer bastardization . \n",
              " \n",
              "  a major gets kicked out of the military for being a fringe element , and winds up teaching children at an xxup rotc school . xxmaj unfortunately , the major is xxmaj xxunk xxmaj wayans ... so the children are in for a world of annoying , humorless xxunk . xxmaj can xxmaj wayans whip these losers into shape ? xxmaj can they get him to become a little more human ? xxmaj the film bombs as most xxmaj wayans films do , with only a few sparkling moments . xxmaj william xxmaj hickey gets about one minute of screen time , fair too little . xxmaj this charming old man ( known best to me as a \" xxmaj tales from the xxmaj crypt \" actor , known best to you as xxmaj uncle xxmaj louis from \" xxmaj christmas xxmaj vacation \" ) shines every moment he 's on screen , which is n't much here . \n",
              " \n",
              "  xxmaj bam xxmaj bam xxmaj bigelow also makes an appearance as a biker , which fits him perfectly . i would n't mind slightly more xxmaj bam xxmaj bam , but i think he carried the role of \" biker \" about as far as it could be carried for a military film . \n",
              " \n",
              "  xxmaj and then there 's the attractive teacher , who someone falls for xxmaj major xxmaj payne even though he treats the kids poorly , has no social skills and is simply impossible to convert into someone you would want to spend time with . xxmaj she must either be incredibly stupid or incredibly desperate . i 'm not sure which ( though it would seem \" stupid \" since the movie makes it clear she gets out of the house often enough ) . \n",
              " \n",
              "  xxmaj wayans had one shining moment : a dance sequence where he performs a series of moves ( including a very nice \" robot \" ) , and with the help of music from 2 xxmaj live xxmaj crew . xxmaj this scene was enjoyable but hardly made up for anything else that made this film dog xxunk . \n",
              " \n",
              "  xxmaj seriously , avoid this film . xxmaj if you want to see a film a bout a loser who helps loser kids become heroes , rent or buy \" xxmaj ernest xxmaj goes to xxmaj camp \" . xxmaj at least he 's a lovable loser , and actually funny . xxmaj maybe if xxmaj major xxmaj payne had fought a badger i 'd feel better , but he did n't . xxmaj forget xxmaj payne , forget xxmaj wayans ... you can do so much better .\n",
              "y: LMLabelList\n",
              ",,,,\n",
              "Path: /root/.fastai/data/imdb;\n",
              "\n",
              "Test: None, model=SequentialRNN(\n",
              "  (0): AWD_LSTM(\n",
              "    (encoder): Embedding(60003, 400, padding_idx=1)\n",
              "    (encoder_dp): EmbeddingDropout(\n",
              "      (emb): Embedding(60003, 400, padding_idx=1)\n",
              "    )\n",
              "    (rnns): ModuleList(\n",
              "      (0): WeightDropout(\n",
              "        (module): LSTM(400, 1150, batch_first=True)\n",
              "      )\n",
              "      (1): WeightDropout(\n",
              "        (module): LSTM(1150, 1150, batch_first=True)\n",
              "      )\n",
              "      (2): WeightDropout(\n",
              "        (module): LSTM(1150, 400, batch_first=True)\n",
              "      )\n",
              "    )\n",
              "    (input_dp): RNNDropout()\n",
              "    (hidden_dps): ModuleList(\n",
              "      (0): RNNDropout()\n",
              "      (1): RNNDropout()\n",
              "      (2): RNNDropout()\n",
              "    )\n",
              "  )\n",
              "  (1): LinearDecoder(\n",
              "    (decoder): Linear(in_features=400, out_features=60003, bias=True)\n",
              "    (output_dp): RNNDropout()\n",
              "  )\n",
              "), opt_func=functools.partial(<class 'torch.optim.adam.Adam'>, betas=(0.9, 0.99)), loss_func=FlattenedLoss of CrossEntropyLoss(), metrics=[<function accuracy at 0x7ff4379f4b70>], true_wd=True, bn_wd=True, wd=0.01, train_bn=True, path=PosixPath('/root/.fastai/data/imdb'), model_dir='models', callback_fns=[<class 'fastai.basic_train.Recorder'>], callbacks=[...], layer_groups=[Sequential(\n",
              "  (0): WeightDropout(\n",
              "    (module): LSTM(400, 1150, batch_first=True)\n",
              "  )\n",
              "  (1): RNNDropout()\n",
              "), Sequential(\n",
              "  (0): WeightDropout(\n",
              "    (module): LSTM(1150, 1150, batch_first=True)\n",
              "  )\n",
              "  (1): RNNDropout()\n",
              "), Sequential(\n",
              "  (0): WeightDropout(\n",
              "    (module): LSTM(1150, 400, batch_first=True)\n",
              "  )\n",
              "  (1): RNNDropout()\n",
              "), Sequential(\n",
              "  (0): Embedding(60003, 400, padding_idx=1)\n",
              "  (1): EmbeddingDropout(\n",
              "    (emb): Embedding(60003, 400, padding_idx=1)\n",
              "  )\n",
              "  (2): LinearDecoder(\n",
              "    (decoder): Linear(in_features=400, out_features=60003, bias=True)\n",
              "    (output_dp): RNNDropout()\n",
              "  )\n",
              ")])\n",
              "alpha: 2.0\n",
              "beta: 1.0], layer_groups=[Sequential(\n",
              "  (0): WeightDropout(\n",
              "    (module): LSTM(400, 1150, batch_first=True)\n",
              "  )\n",
              "  (1): RNNDropout()\n",
              "), Sequential(\n",
              "  (0): WeightDropout(\n",
              "    (module): LSTM(1150, 1150, batch_first=True)\n",
              "  )\n",
              "  (1): RNNDropout()\n",
              "), Sequential(\n",
              "  (0): WeightDropout(\n",
              "    (module): LSTM(1150, 400, batch_first=True)\n",
              "  )\n",
              "  (1): RNNDropout()\n",
              "), Sequential(\n",
              "  (0): Embedding(60003, 400, padding_idx=1)\n",
              "  (1): EmbeddingDropout(\n",
              "    (emb): Embedding(60003, 400, padding_idx=1)\n",
              "  )\n",
              "  (2): LinearDecoder(\n",
              "    (decoder): Linear(in_features=400, out_features=60003, bias=True)\n",
              "    (output_dp): RNNDropout()\n",
              "  )\n",
              ")])"
            ]
          },
          "metadata": {
            "tags": []
          },
          "execution_count": 44
        }
      ]
    },
    {
      "metadata": {
        "id": "pX8aUu4Ybr6f",
        "colab_type": "code",
        "colab": {}
      },
      "cell_type": "code",
      "source": [
        "learn.unfreeze()"
      ],
      "execution_count": 0,
      "outputs": []
    },
    {
      "metadata": {
        "id": "tMr7Vvh3buzo",
        "colab_type": "code",
        "colab": {
          "base_uri": "https://localhost:8080/",
          "height": 942
        },
        "outputId": "d9992a15-1bd8-4a51-8058-517d21feaa42"
      },
      "cell_type": "code",
      "source": [
        "learn.fit_one_cycle(13, 1e-3, moms=(0.8, 0.7))"
      ],
      "execution_count": 46,
      "outputs": [
        {
          "output_type": "display_data",
          "data": {
            "text/html": [
              "\n",
              "    <div>\n",
              "        <style>\n",
              "            /* Turns off some styling */\n",
              "            progress {\n",
              "                /* gets rid of default border in Firefox and Opera. */\n",
              "                border: none;\n",
              "                /* Needs to be in here for Safari polyfill so background images work as expected. */\n",
              "                background-size: auto;\n",
              "            }\n",
              "            .progress-bar-interrupted, .progress-bar-interrupted::-webkit-progress-bar {\n",
              "                background: #F44336;\n",
              "            }\n",
              "        </style>\n",
              "      <progress value='0' class='' max='13', style='width:300px; height:20px; vertical-align: middle;'></progress>\n",
              "      0.00% [0/13 00:00<00:00]\n",
              "    </div>\n",
              "    \n",
              "<table style='width:300px; margin-bottom:10px'>\n",
              "  <tr>\n",
              "    <th>epoch</th>\n",
              "    <th>train_loss</th>\n",
              "    <th>valid_loss</th>\n",
              "    <th>accuracy</th>\n",
              "  </tr>\n",
              "</table>\n",
              "\n",
              "\n",
              "    <div>\n",
              "        <style>\n",
              "            /* Turns off some styling */\n",
              "            progress {\n",
              "                /* gets rid of default border in Firefox and Opera. */\n",
              "                border: none;\n",
              "                /* Needs to be in here for Safari polyfill so background images work as expected. */\n",
              "                background-size: auto;\n",
              "            }\n",
              "            .progress-bar-interrupted, .progress-bar-interrupted::-webkit-progress-bar {\n",
              "                background: #F44336;\n",
              "            }\n",
              "        </style>\n",
              "      <progress value='0' class='progress-bar-interrupted' max='8049', style='width:300px; height:20px; vertical-align: middle;'></progress>\n",
              "      Interrupted\n",
              "    </div>\n",
              "    "
            ],
            "text/plain": [
              "<IPython.core.display.HTML object>"
            ]
          },
          "metadata": {
            "tags": []
          }
        },
        {
          "output_type": "error",
          "ename": "KeyboardInterrupt",
          "evalue": "ignored",
          "traceback": [
            "\u001b[0;31m---------------------------------------------------------------------------\u001b[0m",
            "\u001b[0;31mKeyboardInterrupt\u001b[0m                         Traceback (most recent call last)",
            "\u001b[0;32m<ipython-input-46-5f9f0237dbc6>\u001b[0m in \u001b[0;36m<module>\u001b[0;34m()\u001b[0m\n\u001b[0;32m----> 1\u001b[0;31m \u001b[0mlearn\u001b[0m\u001b[0;34m.\u001b[0m\u001b[0mfit_one_cycle\u001b[0m\u001b[0;34m(\u001b[0m\u001b[0;36m13\u001b[0m\u001b[0;34m,\u001b[0m \u001b[0;36m1e-3\u001b[0m\u001b[0;34m,\u001b[0m \u001b[0mmoms\u001b[0m\u001b[0;34m=\u001b[0m\u001b[0;34m(\u001b[0m\u001b[0;36m0.8\u001b[0m\u001b[0;34m,\u001b[0m \u001b[0;36m0.7\u001b[0m\u001b[0;34m)\u001b[0m\u001b[0;34m)\u001b[0m\u001b[0;34m\u001b[0m\u001b[0;34m\u001b[0m\u001b[0m\n\u001b[0m",
            "\u001b[0;32m/usr/local/lib/python3.6/dist-packages/fastai/train.py\u001b[0m in \u001b[0;36mfit_one_cycle\u001b[0;34m(learn, cyc_len, max_lr, moms, div_factor, pct_start, wd, callbacks, tot_epochs, start_epoch)\u001b[0m\n\u001b[1;32m     20\u001b[0m     callbacks.append(OneCycleScheduler(learn, max_lr, moms=moms, div_factor=div_factor, pct_start=pct_start, tot_epochs=tot_epochs, \n\u001b[1;32m     21\u001b[0m                                        start_epoch=start_epoch))\n\u001b[0;32m---> 22\u001b[0;31m     \u001b[0mlearn\u001b[0m\u001b[0;34m.\u001b[0m\u001b[0mfit\u001b[0m\u001b[0;34m(\u001b[0m\u001b[0mcyc_len\u001b[0m\u001b[0;34m,\u001b[0m \u001b[0mmax_lr\u001b[0m\u001b[0;34m,\u001b[0m \u001b[0mwd\u001b[0m\u001b[0;34m=\u001b[0m\u001b[0mwd\u001b[0m\u001b[0;34m,\u001b[0m \u001b[0mcallbacks\u001b[0m\u001b[0;34m=\u001b[0m\u001b[0mcallbacks\u001b[0m\u001b[0;34m)\u001b[0m\u001b[0;34m\u001b[0m\u001b[0;34m\u001b[0m\u001b[0m\n\u001b[0m\u001b[1;32m     23\u001b[0m \u001b[0;34m\u001b[0m\u001b[0m\n\u001b[1;32m     24\u001b[0m \u001b[0;32mdef\u001b[0m \u001b[0mlr_find\u001b[0m\u001b[0;34m(\u001b[0m\u001b[0mlearn\u001b[0m\u001b[0;34m:\u001b[0m\u001b[0mLearner\u001b[0m\u001b[0;34m,\u001b[0m \u001b[0mstart_lr\u001b[0m\u001b[0;34m:\u001b[0m\u001b[0mFloats\u001b[0m\u001b[0;34m=\u001b[0m\u001b[0;36m1e-7\u001b[0m\u001b[0;34m,\u001b[0m \u001b[0mend_lr\u001b[0m\u001b[0;34m:\u001b[0m\u001b[0mFloats\u001b[0m\u001b[0;34m=\u001b[0m\u001b[0;36m10\u001b[0m\u001b[0;34m,\u001b[0m \u001b[0mnum_it\u001b[0m\u001b[0;34m:\u001b[0m\u001b[0mint\u001b[0m\u001b[0;34m=\u001b[0m\u001b[0;36m100\u001b[0m\u001b[0;34m,\u001b[0m \u001b[0mstop_div\u001b[0m\u001b[0;34m:\u001b[0m\u001b[0mbool\u001b[0m\u001b[0;34m=\u001b[0m\u001b[0;32mTrue\u001b[0m\u001b[0;34m,\u001b[0m \u001b[0mwd\u001b[0m\u001b[0;34m:\u001b[0m\u001b[0mfloat\u001b[0m\u001b[0;34m=\u001b[0m\u001b[0;32mNone\u001b[0m\u001b[0;34m)\u001b[0m\u001b[0;34m:\u001b[0m\u001b[0;34m\u001b[0m\u001b[0;34m\u001b[0m\u001b[0m\n",
            "\u001b[0;32m/usr/local/lib/python3.6/dist-packages/fastai/basic_train.py\u001b[0m in \u001b[0;36mfit\u001b[0;34m(self, epochs, lr, wd, callbacks)\u001b[0m\n\u001b[1;32m    176\u001b[0m         \u001b[0mcallbacks\u001b[0m \u001b[0;34m=\u001b[0m \u001b[0;34m[\u001b[0m\u001b[0mcb\u001b[0m\u001b[0;34m(\u001b[0m\u001b[0mself\u001b[0m\u001b[0;34m)\u001b[0m \u001b[0;32mfor\u001b[0m \u001b[0mcb\u001b[0m \u001b[0;32min\u001b[0m \u001b[0mself\u001b[0m\u001b[0;34m.\u001b[0m\u001b[0mcallback_fns\u001b[0m\u001b[0;34m]\u001b[0m \u001b[0;34m+\u001b[0m \u001b[0mlistify\u001b[0m\u001b[0;34m(\u001b[0m\u001b[0mcallbacks\u001b[0m\u001b[0;34m)\u001b[0m\u001b[0;34m\u001b[0m\u001b[0;34m\u001b[0m\u001b[0m\n\u001b[1;32m    177\u001b[0m         fit(epochs, self.model, self.loss_func, opt=self.opt, data=self.data, metrics=self.metrics,\n\u001b[0;32m--> 178\u001b[0;31m             callbacks=self.callbacks+callbacks)\n\u001b[0m\u001b[1;32m    179\u001b[0m \u001b[0;34m\u001b[0m\u001b[0m\n\u001b[1;32m    180\u001b[0m     \u001b[0;32mdef\u001b[0m \u001b[0mcreate_opt\u001b[0m\u001b[0;34m(\u001b[0m\u001b[0mself\u001b[0m\u001b[0;34m,\u001b[0m \u001b[0mlr\u001b[0m\u001b[0;34m:\u001b[0m\u001b[0mFloats\u001b[0m\u001b[0;34m,\u001b[0m \u001b[0mwd\u001b[0m\u001b[0;34m:\u001b[0m\u001b[0mFloats\u001b[0m\u001b[0;34m=\u001b[0m\u001b[0;36m0.\u001b[0m\u001b[0;34m)\u001b[0m\u001b[0;34m->\u001b[0m\u001b[0;32mNone\u001b[0m\u001b[0;34m:\u001b[0m\u001b[0;34m\u001b[0m\u001b[0;34m\u001b[0m\u001b[0m\n",
            "\u001b[0;32m/usr/local/lib/python3.6/dist-packages/fastai/utils/mem.py\u001b[0m in \u001b[0;36mwrapper\u001b[0;34m(*args, **kwargs)\u001b[0m\n\u001b[1;32m    101\u001b[0m \u001b[0;34m\u001b[0m\u001b[0m\n\u001b[1;32m    102\u001b[0m         \u001b[0;32mtry\u001b[0m\u001b[0;34m:\u001b[0m\u001b[0;34m\u001b[0m\u001b[0;34m\u001b[0m\u001b[0m\n\u001b[0;32m--> 103\u001b[0;31m             \u001b[0;32mreturn\u001b[0m \u001b[0mfunc\u001b[0m\u001b[0;34m(\u001b[0m\u001b[0;34m*\u001b[0m\u001b[0margs\u001b[0m\u001b[0;34m,\u001b[0m \u001b[0;34m**\u001b[0m\u001b[0mkwargs\u001b[0m\u001b[0;34m)\u001b[0m\u001b[0;34m\u001b[0m\u001b[0;34m\u001b[0m\u001b[0m\n\u001b[0m\u001b[1;32m    104\u001b[0m         \u001b[0;32mexcept\u001b[0m \u001b[0mException\u001b[0m \u001b[0;32mas\u001b[0m \u001b[0me\u001b[0m\u001b[0;34m:\u001b[0m\u001b[0;34m\u001b[0m\u001b[0;34m\u001b[0m\u001b[0m\n\u001b[1;32m    105\u001b[0m             if (\"CUDA out of memory\" in str(e) or\n",
            "\u001b[0;32m/usr/local/lib/python3.6/dist-packages/fastai/basic_train.py\u001b[0m in \u001b[0;36mfit\u001b[0;34m(epochs, model, loss_func, opt, data, callbacks, metrics)\u001b[0m\n\u001b[1;32m     88\u001b[0m             \u001b[0;32mfor\u001b[0m \u001b[0mxb\u001b[0m\u001b[0;34m,\u001b[0m\u001b[0myb\u001b[0m \u001b[0;32min\u001b[0m \u001b[0mprogress_bar\u001b[0m\u001b[0;34m(\u001b[0m\u001b[0mdata\u001b[0m\u001b[0;34m.\u001b[0m\u001b[0mtrain_dl\u001b[0m\u001b[0;34m,\u001b[0m \u001b[0mparent\u001b[0m\u001b[0;34m=\u001b[0m\u001b[0mpbar\u001b[0m\u001b[0;34m)\u001b[0m\u001b[0;34m:\u001b[0m\u001b[0;34m\u001b[0m\u001b[0;34m\u001b[0m\u001b[0m\n\u001b[1;32m     89\u001b[0m                 \u001b[0mxb\u001b[0m\u001b[0;34m,\u001b[0m \u001b[0myb\u001b[0m \u001b[0;34m=\u001b[0m \u001b[0mcb_handler\u001b[0m\u001b[0;34m.\u001b[0m\u001b[0mon_batch_begin\u001b[0m\u001b[0;34m(\u001b[0m\u001b[0mxb\u001b[0m\u001b[0;34m,\u001b[0m \u001b[0myb\u001b[0m\u001b[0;34m)\u001b[0m\u001b[0;34m\u001b[0m\u001b[0;34m\u001b[0m\u001b[0m\n\u001b[0;32m---> 90\u001b[0;31m                 \u001b[0mloss\u001b[0m \u001b[0;34m=\u001b[0m \u001b[0mloss_batch\u001b[0m\u001b[0;34m(\u001b[0m\u001b[0mmodel\u001b[0m\u001b[0;34m,\u001b[0m \u001b[0mxb\u001b[0m\u001b[0;34m,\u001b[0m \u001b[0myb\u001b[0m\u001b[0;34m,\u001b[0m \u001b[0mloss_func\u001b[0m\u001b[0;34m,\u001b[0m \u001b[0mopt\u001b[0m\u001b[0;34m,\u001b[0m \u001b[0mcb_handler\u001b[0m\u001b[0;34m)\u001b[0m\u001b[0;34m\u001b[0m\u001b[0;34m\u001b[0m\u001b[0m\n\u001b[0m\u001b[1;32m     91\u001b[0m                 \u001b[0;32mif\u001b[0m \u001b[0mcb_handler\u001b[0m\u001b[0;34m.\u001b[0m\u001b[0mon_batch_end\u001b[0m\u001b[0;34m(\u001b[0m\u001b[0mloss\u001b[0m\u001b[0;34m)\u001b[0m\u001b[0;34m:\u001b[0m \u001b[0;32mbreak\u001b[0m\u001b[0;34m\u001b[0m\u001b[0;34m\u001b[0m\u001b[0m\n\u001b[1;32m     92\u001b[0m \u001b[0;34m\u001b[0m\u001b[0m\n",
            "\u001b[0;32m/usr/local/lib/python3.6/dist-packages/fastai/basic_train.py\u001b[0m in \u001b[0;36mloss_batch\u001b[0;34m(model, xb, yb, loss_func, opt, cb_handler)\u001b[0m\n\u001b[1;32m     25\u001b[0m \u001b[0;34m\u001b[0m\u001b[0m\n\u001b[1;32m     26\u001b[0m     \u001b[0;32mif\u001b[0m \u001b[0mopt\u001b[0m \u001b[0;32mis\u001b[0m \u001b[0;32mnot\u001b[0m \u001b[0;32mNone\u001b[0m\u001b[0;34m:\u001b[0m\u001b[0;34m\u001b[0m\u001b[0;34m\u001b[0m\u001b[0m\n\u001b[0;32m---> 27\u001b[0;31m         \u001b[0mloss\u001b[0m \u001b[0;34m=\u001b[0m \u001b[0mcb_handler\u001b[0m\u001b[0;34m.\u001b[0m\u001b[0mon_backward_begin\u001b[0m\u001b[0;34m(\u001b[0m\u001b[0mloss\u001b[0m\u001b[0;34m)\u001b[0m\u001b[0;34m\u001b[0m\u001b[0;34m\u001b[0m\u001b[0m\n\u001b[0m\u001b[1;32m     28\u001b[0m         \u001b[0mloss\u001b[0m\u001b[0;34m.\u001b[0m\u001b[0mbackward\u001b[0m\u001b[0;34m(\u001b[0m\u001b[0;34m)\u001b[0m\u001b[0;34m\u001b[0m\u001b[0;34m\u001b[0m\u001b[0m\n\u001b[1;32m     29\u001b[0m         \u001b[0mcb_handler\u001b[0m\u001b[0;34m.\u001b[0m\u001b[0mon_backward_end\u001b[0m\u001b[0;34m(\u001b[0m\u001b[0;34m)\u001b[0m\u001b[0;34m\u001b[0m\u001b[0;34m\u001b[0m\u001b[0m\n",
            "\u001b[0;32m/usr/local/lib/python3.6/dist-packages/fastai/callback.py\u001b[0m in \u001b[0;36mon_backward_begin\u001b[0;34m(self, loss)\u001b[0m\n\u001b[1;32m    240\u001b[0m     \u001b[0;32mdef\u001b[0m \u001b[0mon_backward_begin\u001b[0m\u001b[0;34m(\u001b[0m\u001b[0mself\u001b[0m\u001b[0;34m,\u001b[0m \u001b[0mloss\u001b[0m\u001b[0;34m:\u001b[0m\u001b[0mTensor\u001b[0m\u001b[0;34m)\u001b[0m\u001b[0;34m->\u001b[0m\u001b[0;32mNone\u001b[0m\u001b[0;34m:\u001b[0m\u001b[0;34m\u001b[0m\u001b[0;34m\u001b[0m\u001b[0m\n\u001b[1;32m    241\u001b[0m         \u001b[0;34m\"Handle gradient calculation on `loss`.\"\u001b[0m\u001b[0;34m\u001b[0m\u001b[0;34m\u001b[0m\u001b[0m\n\u001b[0;32m--> 242\u001b[0;31m         \u001b[0mself\u001b[0m\u001b[0;34m.\u001b[0m\u001b[0msmoothener\u001b[0m\u001b[0;34m.\u001b[0m\u001b[0madd_value\u001b[0m\u001b[0;34m(\u001b[0m\u001b[0mloss\u001b[0m\u001b[0;34m.\u001b[0m\u001b[0mdetach\u001b[0m\u001b[0;34m(\u001b[0m\u001b[0;34m)\u001b[0m\u001b[0;34m.\u001b[0m\u001b[0mcpu\u001b[0m\u001b[0;34m(\u001b[0m\u001b[0;34m)\u001b[0m\u001b[0;34m)\u001b[0m\u001b[0;34m\u001b[0m\u001b[0;34m\u001b[0m\u001b[0m\n\u001b[0m\u001b[1;32m    243\u001b[0m         \u001b[0mself\u001b[0m\u001b[0;34m.\u001b[0m\u001b[0mstate_dict\u001b[0m\u001b[0;34m[\u001b[0m\u001b[0;34m'last_loss'\u001b[0m\u001b[0;34m]\u001b[0m\u001b[0;34m,\u001b[0m \u001b[0mself\u001b[0m\u001b[0;34m.\u001b[0m\u001b[0mstate_dict\u001b[0m\u001b[0;34m[\u001b[0m\u001b[0;34m'smooth_loss'\u001b[0m\u001b[0;34m]\u001b[0m \u001b[0;34m=\u001b[0m \u001b[0mloss\u001b[0m\u001b[0;34m,\u001b[0m \u001b[0mself\u001b[0m\u001b[0;34m.\u001b[0m\u001b[0msmoothener\u001b[0m\u001b[0;34m.\u001b[0m\u001b[0msmooth\u001b[0m\u001b[0;34m\u001b[0m\u001b[0;34m\u001b[0m\u001b[0m\n\u001b[1;32m    244\u001b[0m         \u001b[0;32mfor\u001b[0m \u001b[0mcb\u001b[0m \u001b[0;32min\u001b[0m \u001b[0mself\u001b[0m\u001b[0;34m.\u001b[0m\u001b[0mcallbacks\u001b[0m\u001b[0;34m:\u001b[0m\u001b[0;34m\u001b[0m\u001b[0;34m\u001b[0m\u001b[0m\n",
            "\u001b[0;31mKeyboardInterrupt\u001b[0m: "
          ]
        }
      ]
    },
    {
      "metadata": {
        "id": "4eUyKsuCtZYO",
        "colab_type": "text"
      },
      "cell_type": "markdown",
      "source": [
        "#### 训练时间太长无法进行。。。。。。。。。"
      ]
    },
    {
      "metadata": {
        "id": "qjYeYjg2b4bG",
        "colab_type": "code",
        "colab": {}
      },
      "cell_type": "code",
      "source": [
        ""
      ],
      "execution_count": 0,
      "outputs": []
    }
  ]
}