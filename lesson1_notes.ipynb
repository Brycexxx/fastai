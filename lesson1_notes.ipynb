{
  "nbformat": 4,
  "nbformat_minor": 0,
  "metadata": {
    "colab": {
      "name": "lesson1-notes.ipynb",
      "version": "0.3.2",
      "provenance": [],
      "include_colab_link": true
    },
    "kernelspec": {
      "name": "python3",
      "display_name": "Python 3"
    }
  },
  "cells": [
    {
      "cell_type": "markdown",
      "metadata": {
        "id": "view-in-github",
        "colab_type": "text"
      },
      "source": [
        "<a href=\"https://colab.research.google.com/github/Brycexxx/fastai/blob/master/lesson1_notes.ipynb\" target=\"_parent\"><img src=\"https://colab.research.google.com/assets/colab-badge.svg\" alt=\"Open In Colab\"/></a>"
      ]
    },
    {
      "metadata": {
        "id": "4Bn29qreKtTb",
        "colab_type": "text"
      },
      "cell_type": "markdown",
      "source": [
        "## Lesson1\n",
        "\n",
        "### 1. 学习率的微调\n",
        "\n",
        "对于图像识别来说，在较靠前的层学习到的特征是较为基础的、有普遍适应性的。对于任何物体最为基础的边缘特征都是一致的，所以对于靠前的层，迁移训练的时候，并不需要做过多的修改，所以给一个较小的学习率。而对于较靠后的层则学习到了接近真实完整物体的高级特征，对于不同的任务，需要较大的改变，所以给一个较大的学习率\n",
        "\n",
        "### 2. batch-size\n",
        "\n",
        "一样的 `batch-size` 由于 GPU 的计算能力有差异，最后的训练结果也可能不同，如果 GPU 弱，可以降低 `batch-size` 提高单个 `batch` 的训练速度，最后的精度确有提升\n",
        "\n"
      ]
    }
  ]
}